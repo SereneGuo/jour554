{
 "cells": [
  {
   "cell_type": "markdown",
   "id": "a9c1b603-9770-47f0-89c6-96239f46416b",
   "metadata": {},
   "source": [
    "### Geography in a notebook: Rural Outdoor Lighting District (Dark Skies)"
   ]
  },
  {
   "cell_type": "code",
   "execution_count": 4,
   "id": "3ce80874-70e2-4c26-9135-de9ec5473b0e",
   "metadata": {},
   "outputs": [],
   "source": [
    "import pandas as pd\n",
    "import geopandas as gpd"
   ]
  },
  {
   "cell_type": "code",
   "execution_count": 7,
   "id": "4eaacd8c-126a-4e46-ac97-379f66669927",
   "metadata": {},
   "outputs": [],
   "source": [
    "Lighting_LA = gpd.read_file(\"data/geo/Rural_Outdoor_Lighting_District_(Dark_Skies)/\")"
   ]
  },
  {
   "cell_type": "code",
   "execution_count": 8,
   "id": "1964e219-325f-4dc5-8f32-ea9b2d20bdcf",
   "metadata": {},
   "outputs": [
    {
     "data": {
      "text/plain": [
       "<AxesSubplot:>"
      ]
     },
     "execution_count": 8,
     "metadata": {},
     "output_type": "execute_result"
    },
    {
     "data": {
      "image/png": "[encoded data removed]",
      "text/plain": [
       "<Figure size 432x288 with 1 Axes>"
      ]
     },
     "metadata": {
      "needs_background": "light"
     },
     "output_type": "display_data"
    }
   ],
   "source": [
    "Lighting_LA.plot()"
   ]
  },
  {
   "cell_type": "code",
   "execution_count": 9,
   "id": "81983dd6-accc-445e-8dee-e582b3b42b17",
   "metadata": {},
   "outputs": [
    {
     "name": "stdout",
     "output_type": "stream",
     "text": [
      "<class 'geopandas.geodataframe.GeoDataFrame'>\n",
      "RangeIndex: 117 entries, 0 to 116\n",
      "Data columns (total 3 columns):\n",
      " #   Column    Non-Null Count  Dtype   \n",
      "---  ------    --------------  -----   \n",
      " 0   OBJECTID  117 non-null    int64   \n",
      " 1   NAME      117 non-null    object  \n",
      " 2   geometry  117 non-null    geometry\n",
      "dtypes: geometry(1), int64(1), object(1)\n",
      "memory usage: 2.9+ KB\n"
     ]
    }
   ],
   "source": [
    "Lighting_LA.info()"
   ]
  },
  {
   "cell_type": "code",
   "execution_count": 11,
   "id": "bd603b3b-8926-4f6b-a9c0-5c29ab8a0814",
   "metadata": {},
   "outputs": [],
   "source": [
    "Lighting_LA.to_file(\"data/geo/lighting_LA.geojson\", driver=\"GeoJSON\")"
   ]
  },
  {
   "cell_type": "code",
   "execution_count": null,
   "id": "73b3cddc-7c94-4158-a12d-1cb808ac7267",
   "metadata": {},
   "outputs": [],
   "source": []
  }
 ],
 "metadata": {
  "kernelspec": {
   "display_name": "Python 3",
   "language": "python",
   "name": "python3"
  },
  "language_info": {
   "codemirror_mode": {
    "name": "ipython",
    "version": 3
   },
   "file_extension": ".py",
   "mimetype": "text/x-python",
   "name": "python",
   "nbconvert_exporter": "python",
   "pygments_lexer": "ipython3",
   "version": "3.8.8"
  }
 },
 "nbformat": 4,
 "nbformat_minor": 5
}
